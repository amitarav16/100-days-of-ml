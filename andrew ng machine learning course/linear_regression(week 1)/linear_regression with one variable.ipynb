{
 "cells": [
  {
   "cell_type": "code",
   "execution_count": 2,
   "metadata": {},
   "outputs": [],
   "source": [
    "#importing libraries\n",
    "import numpy as np\n",
    "import pandas as pd\n",
    "import matplotlib.pyplot as plt\n",
    "%matplotlib inline\n",
    "from sklearn import linear_model\n"
   ]
  },
  {
   "cell_type": "code",
   "execution_count": 3,
   "metadata": {},
   "outputs": [],
   "source": [
    "#impoting data\n",
    "data = pd.read_csv(\"data1.txt\",header = None)\n",
    "#seperating depedent and independent values\n",
    "x = data.iloc[:,0]\n",
    "y = data.iloc[:,1]\n",
    "#no. of rows in data = n\n",
    "n = len(x)\n"
   ]
  },
  {
   "cell_type": "code",
   "execution_count": 4,
   "metadata": {},
   "outputs": [
    {
     "data": {
      "image/png": "[encoded data removed]",
      "text/plain": [
       "<Figure size 432x288 with 1 Axes>"
      ]
     },
     "metadata": {
      "needs_background": "light"
     },
     "output_type": "display_data"
    }
   ],
   "source": [
    "#plotting the relationship between area and price \n",
    "plt.scatter(x,y,color = 'red',marker = '+')\n",
    "plt.ylabel(\"profit in 10,000\")\n",
    "plt.xlabel(\"population of city in 10,000\")\n",
    "plt.show()"
   ]
  },
  {
   "cell_type": "code",
   "execution_count": 5,
   "metadata": {},
   "outputs": [],
   "source": [
    "# converting 1d data to 2d\n",
    "x = x[:, np.newaxis] \n",
    "y = y[:, np.newaxis]\n",
    "# initializing the theta to zero\n",
    "theta = np.zeros([2,1])\n",
    "#  creating variable ones containing array of ones of size n\n",
    "ones = np.ones([n,1])\n",
    "# adding ones to data x horizontally\n",
    "x = np.hstack([ones, x])\n"
   ]
  },
  {
   "cell_type": "code",
   "execution_count": 6,
   "metadata": {},
   "outputs": [],
   "source": [
    "#defining learning rate and iterations\n",
    "alpha = 0.001\n",
    "iters = 1500"
   ]
  },
  {
   "cell_type": "code",
   "execution_count": 7,
   "metadata": {},
   "outputs": [],
   "source": [
    "#creating func to calculate cost func\n",
    "def costfun(x,y,theta):\n",
    "    y_pred = np.dot(x,theta)\n",
    "    cost = np.sum(np.power(y_pred - y,2))/(2*n)\n",
    "    return cost"
   ]
  },
  {
   "cell_type": "code",
   "execution_count": 8,
   "metadata": {},
   "outputs": [
    {
     "name": "stdout",
     "output_type": "stream",
     "text": [
      "32.072733877455676\n"
     ]
    }
   ],
   "source": [
    "j = costfun(x,y,theta)\n",
    "print(j)"
   ]
  },
  {
   "cell_type": "code",
   "execution_count": 9,
   "metadata": {},
   "outputs": [],
   "source": [
    "#calculating gradientdescent\n",
    "def gradientdescent(x,y,theta,alpha,iters):\n",
    "    for i in range(iters):\n",
    "        temp = np.dot(x,theta) - y\n",
    "        temp = np.dot(x.T,temp)\n",
    "        theta = theta - (alpha/n)*temp\n",
    "    return theta"
   ]
  },
  {
   "cell_type": "code",
   "execution_count": 10,
   "metadata": {},
   "outputs": [
    {
     "name": "stdout",
     "output_type": "stream",
     "text": [
      "[[-0.86221218]\n",
      " [ 0.88827876]]\n"
     ]
    }
   ],
   "source": [
    "theta = gradientdescent(x,y,theta,alpha,iters)\n",
    "print(theta)"
   ]
  },
  {
   "cell_type": "code",
   "execution_count": 15,
   "metadata": {},
   "outputs": [],
   "source": [
    "j = costfun(x,y,theta)"
   ]
  },
  {
   "cell_type": "code",
   "execution_count": 16,
   "metadata": {},
   "outputs": [
    {
     "data": {
      "text/plain": [
       "5.314765150593782"
      ]
     },
     "execution_count": 16,
     "metadata": {},
     "output_type": "execute_result"
    }
   ],
   "source": [
    "j"
   ]
  },
  {
   "cell_type": "code",
   "execution_count": 13,
   "metadata": {},
   "outputs": [
    {
     "data": {
      "image/png": "[encoded data removed]",
      "text/plain": [
       "<Figure size 432x288 with 1 Axes>"
      ]
     },
     "metadata": {
      "needs_background": "light"
     },
     "output_type": "display_data"
    }
   ],
   "source": [
    "#plotting the predictions\n",
    "plt.scatter(x[:,1],y)\n",
    "plt.xlabel(\"pop of city in 10,000\")\n",
    "plt.ylabel(\"profit in 10,000\")\n",
    "plt.plot(x[:,1],np.dot(x,theta),color = 'red')\n",
    "plt.show()"
   ]
  },
  {
   "cell_type": "code",
   "execution_count": null,
   "metadata": {},
   "outputs": [],
   "source": []
  }
 ],
 "metadata": {
  "kernelspec": {
   "display_name": "Python 3",
   "language": "python",
   "name": "python3"
  },
  "language_info": {
   "codemirror_mode": {
    "name": "ipython",
    "version": 3
   },
   "file_extension": ".py",
   "mimetype": "text/x-python",
   "name": "python",
   "nbconvert_exporter": "python",
   "pygments_lexer": "ipython3",
   "version": "3.7.1"
  }
 },
 "nbformat": 4,
 "nbformat_minor": 2
}
